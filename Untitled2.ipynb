{
  "nbformat": 4,
  "nbformat_minor": 0,
  "metadata": {
    "colab": {
      "name": "Untitled2.ipynb",
      "provenance": [],
      "authorship_tag": "ABX9TyPaJhprzJfMaSMeOIuKe0/B",
      "include_colab_link": true
    },
    "kernelspec": {
      "name": "python3",
      "display_name": "Python 3"
    },
    "language_info": {
      "name": "python"
    }
  },
  "cells": [
    {
      "cell_type": "markdown",
      "metadata": {
        "id": "view-in-github",
        "colab_type": "text"
      },
      "source": [
        "<a href=\"https://colab.research.google.com/github/saivardhan4f0/AI/blob/main/Untitled2.ipynb\" target=\"_parent\"><img src=\"https://colab.research.google.com/assets/colab-badge.svg\" alt=\"Open In Colab\"/></a>"
      ]
    },
    {
      "cell_type": "code",
      "metadata": {
        "colab": {
          "base_uri": "https://localhost:8080/"
        },
        "id": "UnDIlC0udlie",
        "outputId": "3208fad9-fe29-46de-81ec-482ee2d76acd"
      },
      "source": [
        "#non linear optimal solution for x^4+3x^3+10\n",
        "\n",
        "x_0=2\n",
        "\n",
        "eta=0.1\n",
        "eps=0\n",
        "del_x=1\n",
        "max_iters=2\n",
        "iters=0\n",
        "actuals=0\n",
        "x=0\n",
        "def deriv(x):\n",
        "    x_deriv=4*(x)*(x)*(x)+6*(x)\n",
        "    return x_deriv\n",
        "def actual(x_0):\n",
        "    x= (x_0)*(x_0)*(x_0)*(x_0)+3*(x_0)*(x_0)+10\n",
        "    return x\n",
        "while abs(del_x)>eps and iters<max_iters:\n",
        "  prev_x=x_0\n",
        "  del_x=-eta*deriv(prev_x)\n",
        "  x_0=x_0+del_x\n",
        "  iters=iters+1\n",
        "  print (\"iteration\",iters,\"\\nX value is\", x_0)\n",
        "print (\"The local minimum occurs at \",x_0)\n",
        "actuals=x_0\n",
        "x=actual(actuals)\n",
        "print (\"the optimal solution\",x)"
      ],
      "execution_count": 2,
      "outputs": [
        {
          "output_type": "stream",
          "name": "stdout",
          "text": [
            "iteration 1 \n",
            "X value is -2.4000000000000004\n",
            "iteration 2 \n",
            "X value is 4.569600000000003\n",
            "The local minimum occurs at  4.569600000000003\n",
            "the optimal solution 508.6700901495353\n"
          ]
        }
      ]
    }
  ]
}