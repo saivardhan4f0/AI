{
  "nbformat": 4,
  "nbformat_minor": 0,
  "metadata": {
    "colab": {
      "name": "Untitled0.ipynb",
      "provenance": [],
      "authorship_tag": "ABX9TyOre307kNUpAqVwfW838b2B",
      "include_colab_link": true
    },
    "kernelspec": {
      "name": "python3",
      "display_name": "Python 3"
    },
    "language_info": {
      "name": "python"
    }
  },
  "cells": [
    {
      "cell_type": "markdown",
      "metadata": {
        "id": "view-in-github",
        "colab_type": "text"
      },
      "source": [
        "<a href=\"https://colab.research.google.com/github/saivardhan4f0/AI/blob/main/Untitled0.ipynb\" target=\"_parent\"><img src=\"https://colab.research.google.com/assets/colab-badge.svg\" alt=\"Open In Colab\"/></a>"
      ]
    },
    {
      "cell_type": "code",
      "metadata": {
        "colab": {
          "base_uri": "https://localhost:8080/"
        },
        "id": "2CJLstl5UT44",
        "outputId": "6168ce25-7647-41fa-d1ca-da5c0b84f6e3"
      },
      "source": [
        "from google.colab import drive\n",
        "drive.mount('/content/drive')"
      ],
      "execution_count": 1,
      "outputs": [
        {
          "output_type": "stream",
          "name": "stdout",
          "text": [
            "Mounted at /content/drive\n"
          ]
        }
      ]
    },
    {
      "cell_type": "code",
      "metadata": {
        "id": "jbvbEbq5UnAr"
      },
      "source": [
        "import pandas as pd\n",
        "from sklearn.tree import DecisionTreeClassifier # Import Decision Tree Classifier\n",
        "from sklearn.model_selection import train_test_split # Import train_test_split function\n",
        "from sklearn import metrics"
      ],
      "execution_count": 2,
      "outputs": []
    },
    {
      "cell_type": "code",
      "metadata": {
        "colab": {
          "base_uri": "https://localhost:8080/",
          "height": 206
        },
        "id": "PA6_zgNnVUtF",
        "outputId": "8f740906-fc00-470d-b13b-220a0f730990"
      },
      "source": [
        "col_names = ['N', 'P', 'K', 'temperature', 'humidity', 'ph', 'rainfall', 'label']\n",
        "# load dataset\n",
        "pima = pd.read_csv(\"/content/drive/MyDrive/newcube.csv\")\n",
        "pima.head()"
      ],
      "execution_count": 3,
      "outputs": [
        {
          "output_type": "execute_result",
          "data": {
            "text/html": [
              "<div>\n",
              "<style scoped>\n",
              "    .dataframe tbody tr th:only-of-type {\n",
              "        vertical-align: middle;\n",
              "    }\n",
              "\n",
              "    .dataframe tbody tr th {\n",
              "        vertical-align: top;\n",
              "    }\n",
              "\n",
              "    .dataframe thead th {\n",
              "        text-align: right;\n",
              "    }\n",
              "</style>\n",
              "<table border=\"1\" class=\"dataframe\">\n",
              "  <thead>\n",
              "    <tr style=\"text-align: right;\">\n",
              "      <th></th>\n",
              "      <th>N</th>\n",
              "      <th>P</th>\n",
              "      <th>K</th>\n",
              "      <th>temperature</th>\n",
              "      <th>humidity</th>\n",
              "      <th>ph</th>\n",
              "      <th>rainfall</th>\n",
              "      <th>label</th>\n",
              "    </tr>\n",
              "  </thead>\n",
              "  <tbody>\n",
              "    <tr>\n",
              "      <th>0</th>\n",
              "      <td>24</td>\n",
              "      <td>128</td>\n",
              "      <td>196</td>\n",
              "      <td>22.750888</td>\n",
              "      <td>90.694892</td>\n",
              "      <td>5.521467</td>\n",
              "      <td>110.431786</td>\n",
              "      <td>1</td>\n",
              "    </tr>\n",
              "    <tr>\n",
              "      <th>1</th>\n",
              "      <td>7</td>\n",
              "      <td>144</td>\n",
              "      <td>197</td>\n",
              "      <td>23.849401</td>\n",
              "      <td>94.348150</td>\n",
              "      <td>6.133221</td>\n",
              "      <td>114.051250</td>\n",
              "      <td>1</td>\n",
              "    </tr>\n",
              "    <tr>\n",
              "      <th>2</th>\n",
              "      <td>14</td>\n",
              "      <td>128</td>\n",
              "      <td>205</td>\n",
              "      <td>22.608010</td>\n",
              "      <td>94.589006</td>\n",
              "      <td>6.226290</td>\n",
              "      <td>116.039659</td>\n",
              "      <td>1</td>\n",
              "    </tr>\n",
              "    <tr>\n",
              "      <th>3</th>\n",
              "      <td>8</td>\n",
              "      <td>120</td>\n",
              "      <td>201</td>\n",
              "      <td>21.186674</td>\n",
              "      <td>91.134357</td>\n",
              "      <td>6.321152</td>\n",
              "      <td>122.233323</td>\n",
              "      <td>1</td>\n",
              "    </tr>\n",
              "    <tr>\n",
              "      <th>4</th>\n",
              "      <td>20</td>\n",
              "      <td>129</td>\n",
              "      <td>201</td>\n",
              "      <td>23.410447</td>\n",
              "      <td>91.699133</td>\n",
              "      <td>5.587906</td>\n",
              "      <td>116.077793</td>\n",
              "      <td>1</td>\n",
              "    </tr>\n",
              "  </tbody>\n",
              "</table>\n",
              "</div>"
            ],
            "text/plain": [
              "    N    P    K  temperature   humidity        ph    rainfall  label\n",
              "0  24  128  196    22.750888  90.694892  5.521467  110.431786      1\n",
              "1   7  144  197    23.849401  94.348150  6.133221  114.051250      1\n",
              "2  14  128  205    22.608010  94.589006  6.226290  116.039659      1\n",
              "3   8  120  201    21.186674  91.134357  6.321152  122.233323      1\n",
              "4  20  129  201    23.410447  91.699133  5.587906  116.077793      1"
            ]
          },
          "metadata": {},
          "execution_count": 3
        }
      ]
    },
    {
      "cell_type": "code",
      "metadata": {
        "id": "-0ZykwTyZKmx"
      },
      "source": [
        "feature_cols = ['N', 'P', 'K', 'temperature', 'humidity', 'ph', 'rainfall']\n",
        "X = pima[feature_cols] # Features\n",
        "y = pima.label # Target variable"
      ],
      "execution_count": 4,
      "outputs": []
    },
    {
      "cell_type": "code",
      "metadata": {
        "id": "QKtHOK0rZf9j"
      },
      "source": [
        "X_train, X_test, y_train, y_test = train_test_split(X, y, test_size=0.3, random_state=1)"
      ],
      "execution_count": 5,
      "outputs": []
    },
    {
      "cell_type": "code",
      "metadata": {
        "id": "n98s64eUZnhu"
      },
      "source": [
        "# Create Decision Tree classifer object\n",
        "clf = DecisionTreeClassifier()\n",
        "\n",
        "# Train Decision Tree Classifer\n",
        "clf = clf.fit(X_train,y_train)"
      ],
      "execution_count": 6,
      "outputs": []
    },
    {
      "cell_type": "code",
      "metadata": {
        "id": "PegVViz2Zuoc"
      },
      "source": [
        "y_pred = clf.predict(X_test)"
      ],
      "execution_count": 7,
      "outputs": []
    },
    {
      "cell_type": "code",
      "metadata": {
        "colab": {
          "base_uri": "https://localhost:8080/"
        },
        "id": "GgC6NTd3Z11s",
        "outputId": "cb9db70d-a3ce-4703-a72c-4807ef072415"
      },
      "source": [
        "print(\"Accuracy:\",metrics.accuracy_score(y_test, y_pred))"
      ],
      "execution_count": 8,
      "outputs": [
        {
          "output_type": "stream",
          "name": "stdout",
          "text": [
            "Accuracy: 0.9863636363636363\n"
          ]
        }
      ]
    },
    {
      "cell_type": "code",
      "metadata": {
        "colab": {
          "base_uri": "https://localhost:8080/"
        },
        "id": "iYLy5pvGZ80m",
        "outputId": "d8593657-7272-470f-9160-b8288884ba45"
      },
      "source": [
        "# Create Decision Tree classifer object\n",
        "clf = DecisionTreeClassifier(criterion=\"entropy\", max_depth=4)\n",
        "\n",
        "# Train Decision Tree Classifer\n",
        "clf = clf.fit(X_train,y_train)\n",
        "\n",
        "#Predict the response for test dataset\n",
        "y_pred = clf.predict(X_test)\n",
        "\n",
        "# Model Accuracy, how often is the classifier correct?\n",
        "print(\"Accuracy:\",metrics.accuracy_score(y_test, y_pred))"
      ],
      "execution_count": 9,
      "outputs": [
        {
          "output_type": "stream",
          "name": "stdout",
          "text": [
            "Accuracy: 0.646969696969697\n"
          ]
        }
      ]
    },
    {
      "cell_type": "code",
      "metadata": {
        "id": "7FiZcs_7bJew"
      },
      "source": [
        "import pickle\n",
        "# Save the model\n",
        "filename = 'model.pkl'\n",
        "pickle.dump(clf, open(filename, 'wb'))"
      ],
      "execution_count": 13,
      "outputs": []
    },
    {
      "cell_type": "code",
      "metadata": {
        "colab": {
          "base_uri": "https://localhost:8080/"
        },
        "id": "t1L82t5jbQn4",
        "outputId": "00b7d78e-f471-4255-b556-a61e1b226c97"
      },
      "source": [
        "list_of_columns = ['N', 'P', 'K', 'temperature', 'humidity', 'ph', 'rainfall']\n",
        "input_data=pd.DataFrame(columns=list_of_columns)\n",
        "\n",
        "\n",
        "input_data.at[0,'N']=int(input('enter nitrogen level(N)'))\n",
        "input_data.at[0,'P']=int(input('enter phosphorus level(P)'))\n",
        "input_data.at[0,'K']=int(input('enter potassium level(K)'))\n",
        "input_data.at[0,'temperature']=float(input ('enter temperature'))\n",
        "input_data.at[0,'humidity']=float(input ('enter humidity '))\n",
        "input_data.at[0,'ph']=float(input('enter pH value of soul'))\n",
        "input_data.at[0,'rainfall']=float(input('enter rainfall value'))\n",
        "\n",
        "model = pickle.load(open('model.pkl', 'rb'))\n",
        "prediction = model.predict(input_data)\n",
        "result = prediction[0]\n",
        "print('crop  ',result)"
      ],
      "execution_count": 14,
      "outputs": [
        {
          "output_type": "stream",
          "name": "stdout",
          "text": [
            "enter nitrogen level(N)24\n",
            "enter phosphorus level(P)128\n",
            "enter potassium level(K)196\n",
            "enter temperature22.7\n",
            "enter humidity 90.6\n",
            "enter pH value of soul15.5\n",
            "enter rainfall value110\n",
            "crop   1\n"
          ]
        }
      ]
    }
  ]
}