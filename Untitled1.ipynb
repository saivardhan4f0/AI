{
  "nbformat": 4,
  "nbformat_minor": 0,
  "metadata": {
    "colab": {
      "name": "Untitled1.ipynb",
      "provenance": [],
      "collapsed_sections": [],
      "authorship_tag": "ABX9TyPfj5XevwTYlxdAfbtMfSoE",
      "include_colab_link": true
    },
    "kernelspec": {
      "name": "python3",
      "display_name": "Python 3"
    },
    "language_info": {
      "name": "python"
    }
  },
  "cells": [
    {
      "cell_type": "markdown",
      "metadata": {
        "id": "view-in-github",
        "colab_type": "text"
      },
      "source": [
        "<a href=\"https://colab.research.google.com/github/saivardhan4f0/AI/blob/main/Untitled1.ipynb\" target=\"_parent\"><img src=\"https://colab.research.google.com/assets/colab-badge.svg\" alt=\"Open In Colab\"/></a>"
      ]
    },
    {
      "cell_type": "code",
      "metadata": {
        "colab": {
          "base_uri": "https://localhost:8080/"
        },
        "id": "6XBQhoU22QUa",
        "outputId": "0d266343-64ad-4860-a5d2-0cd4014ca558"
      },
      "source": [
        "\n",
        "from scipy.optimize import linprog\n",
        "obj=[-50,-120]\n",
        "a=[[10,30],[7000,200],[1,1]]\n",
        "b=[1200,700000,110]\n",
        "bound=[(0,float('inf')),(0,float('inf'))]\n",
        "opt=linprog(c=obj,A_ub=a,b_ub=b,A_eq=None,b_eq=None,bounds=bound, method=\"simplex\")\n",
        "print(\"optimal solution:\",(round(opt.x[0])), (round (opt.x[1])))\n",
        "print(\"optimal value:rs\",50*round(opt.x[0])+120*round (opt.x[1]))"
      ],
      "execution_count": 1,
      "outputs": [
        {
          "output_type": "stream",
          "name": "stdout",
          "text": [
            "optimal solution: 100 7\n",
            "optimal value:rs 5840\n"
          ]
        }
      ]
    }
  ]
}